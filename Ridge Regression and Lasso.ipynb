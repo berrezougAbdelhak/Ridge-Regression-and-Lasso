{
 "cells": [
  {
   "cell_type": "code",
   "execution_count": 123,
   "metadata": {},
   "outputs": [],
   "source": [
    "import pandas as pd"
   ]
  },
  {
   "cell_type": "code",
   "execution_count": 124,
   "metadata": {},
   "outputs": [],
   "source": [
    "raw_data=pd.read_csv('prostate.data.txt',delimiter='\\t')"
   ]
  },
  {
   "cell_type": "code",
   "execution_count": 125,
   "metadata": {},
   "outputs": [
    {
     "data": {
      "text/html": [
       "<div>\n",
       "<style scoped>\n",
       "    .dataframe tbody tr th:only-of-type {\n",
       "        vertical-align: middle;\n",
       "    }\n",
       "\n",
       "    .dataframe tbody tr th {\n",
       "        vertical-align: top;\n",
       "    }\n",
       "\n",
       "    .dataframe thead th {\n",
       "        text-align: right;\n",
       "    }\n",
       "</style>\n",
       "<table border=\"1\" class=\"dataframe\">\n",
       "  <thead>\n",
       "    <tr style=\"text-align: right;\">\n",
       "      <th></th>\n",
       "      <th>col</th>\n",
       "      <th>lcavol</th>\n",
       "      <th>lweight</th>\n",
       "      <th>age</th>\n",
       "      <th>lbph</th>\n",
       "      <th>svi</th>\n",
       "      <th>lcp</th>\n",
       "      <th>gleason</th>\n",
       "      <th>pgg45</th>\n",
       "      <th>lpsa</th>\n",
       "      <th>train</th>\n",
       "    </tr>\n",
       "  </thead>\n",
       "  <tbody>\n",
       "    <tr>\n",
       "      <th>0</th>\n",
       "      <td>1</td>\n",
       "      <td>-0.579818</td>\n",
       "      <td>2.769459</td>\n",
       "      <td>50</td>\n",
       "      <td>-1.386294</td>\n",
       "      <td>0</td>\n",
       "      <td>-1.386294</td>\n",
       "      <td>6</td>\n",
       "      <td>0</td>\n",
       "      <td>-0.430783</td>\n",
       "      <td>T</td>\n",
       "    </tr>\n",
       "    <tr>\n",
       "      <th>1</th>\n",
       "      <td>2</td>\n",
       "      <td>-0.994252</td>\n",
       "      <td>3.319626</td>\n",
       "      <td>58</td>\n",
       "      <td>-1.386294</td>\n",
       "      <td>0</td>\n",
       "      <td>-1.386294</td>\n",
       "      <td>6</td>\n",
       "      <td>0</td>\n",
       "      <td>-0.162519</td>\n",
       "      <td>T</td>\n",
       "    </tr>\n",
       "    <tr>\n",
       "      <th>2</th>\n",
       "      <td>3</td>\n",
       "      <td>-0.510826</td>\n",
       "      <td>2.691243</td>\n",
       "      <td>74</td>\n",
       "      <td>-1.386294</td>\n",
       "      <td>0</td>\n",
       "      <td>-1.386294</td>\n",
       "      <td>7</td>\n",
       "      <td>20</td>\n",
       "      <td>-0.162519</td>\n",
       "      <td>T</td>\n",
       "    </tr>\n",
       "    <tr>\n",
       "      <th>3</th>\n",
       "      <td>4</td>\n",
       "      <td>-1.203973</td>\n",
       "      <td>3.282789</td>\n",
       "      <td>58</td>\n",
       "      <td>-1.386294</td>\n",
       "      <td>0</td>\n",
       "      <td>-1.386294</td>\n",
       "      <td>6</td>\n",
       "      <td>0</td>\n",
       "      <td>-0.162519</td>\n",
       "      <td>T</td>\n",
       "    </tr>\n",
       "    <tr>\n",
       "      <th>4</th>\n",
       "      <td>5</td>\n",
       "      <td>0.751416</td>\n",
       "      <td>3.432373</td>\n",
       "      <td>62</td>\n",
       "      <td>-1.386294</td>\n",
       "      <td>0</td>\n",
       "      <td>-1.386294</td>\n",
       "      <td>6</td>\n",
       "      <td>0</td>\n",
       "      <td>0.371564</td>\n",
       "      <td>T</td>\n",
       "    </tr>\n",
       "  </tbody>\n",
       "</table>\n",
       "</div>"
      ],
      "text/plain": [
       "   col    lcavol   lweight  age      lbph  svi       lcp  gleason  pgg45  \\\n",
       "0    1 -0.579818  2.769459   50 -1.386294    0 -1.386294        6      0   \n",
       "1    2 -0.994252  3.319626   58 -1.386294    0 -1.386294        6      0   \n",
       "2    3 -0.510826  2.691243   74 -1.386294    0 -1.386294        7     20   \n",
       "3    4 -1.203973  3.282789   58 -1.386294    0 -1.386294        6      0   \n",
       "4    5  0.751416  3.432373   62 -1.386294    0 -1.386294        6      0   \n",
       "\n",
       "       lpsa train  \n",
       "0 -0.430783     T  \n",
       "1 -0.162519     T  \n",
       "2 -0.162519     T  \n",
       "3 -0.162519     T  \n",
       "4  0.371564     T  "
      ]
     },
     "execution_count": 125,
     "metadata": {},
     "output_type": "execute_result"
    }
   ],
   "source": [
    "raw_data.head()"
   ]
  },
  {
   "cell_type": "code",
   "execution_count": 126,
   "metadata": {},
   "outputs": [],
   "source": [
    "X=raw_data.iloc[:,1:-3]\n",
    "y=raw_data.iloc[:,-2]\n"
   ]
  },
  {
   "cell_type": "code",
   "execution_count": 127,
   "metadata": {},
   "outputs": [],
   "source": [
    "from sklearn import preprocessing\n",
    "std_scale=preprocessing.StandardScaler().fit(X)\n",
    "X_scale=std_scale.transform(X)\n"
   ]
  },
  {
   "cell_type": "code",
   "execution_count": 128,
   "metadata": {},
   "outputs": [],
   "source": [
    "from sklearn.model_selection import train_test_split\n",
    "\n",
    "X_train,X_test,y_train,y_test=train_test_split(X_scale,y,test_size=0.25)"
   ]
  },
  {
   "cell_type": "code",
   "execution_count": 129,
   "metadata": {},
   "outputs": [
    {
     "data": {
      "text/plain": [
       "LinearRegression()"
      ]
     },
     "execution_count": 129,
     "metadata": {},
     "output_type": "execute_result"
    }
   ],
   "source": [
    "from sklearn import linear_model\n",
    "lr=linear_model.LinearRegression()\n",
    "lr.fit(X_train,y_train)"
   ]
  },
  {
   "cell_type": "code",
   "execution_count": 130,
   "metadata": {},
   "outputs": [
    {
     "name": "stdout",
     "output_type": "stream",
     "text": [
      "0.4147382463225286\n"
     ]
    }
   ],
   "source": [
    "import numpy as np \n",
    "\n",
    "baseline_error=np.mean((lr.predict(X_test)-y_test)**2)\n",
    "print(baseline_error)"
   ]
  },
  {
   "cell_type": "code",
   "execution_count": 131,
   "metadata": {},
   "outputs": [],
   "source": [
    "n_alphas=50\n",
    "\n",
    "alphas=np.logspace(-5,5,50)\n",
    "coefs=[]\n",
    "errors=[]\n",
    "\n",
    "ridge=linear_model.Ridge()\n",
    "for a in alphas:\n",
    "    ridge.set_params(alpha=a)\n",
    "    ridge.fit(X_train,y_train)\n",
    "    coefs.append(ridge.coef_)\n",
    "    errors.append(np.mean((ridge.predict(X_test)-y_test)**2))\n",
    "    \n",
    "    "
   ]
  },
  {
   "cell_type": "code",
   "execution_count": 132,
   "metadata": {},
   "outputs": [
    {
     "data": {
      "image/png": "[encoded data removed]",
      "text/plain": [
       "<Figure size 432x288 with 1 Axes>"
      ]
     },
     "metadata": {
      "needs_background": "light"
     },
     "output_type": "display_data"
    },
    {
     "data": {
      "text/plain": [
       "[0.4147381805424443,\n",
       " 0.41473814108376056,\n",
       " 0.4147380779555563,\n",
       " 0.41473797695964215,\n",
       " 0.41473781538120136,\n",
       " 0.4147375568804506,\n",
       " 0.4147371433207026,\n",
       " 0.41473648169615684,\n",
       " 0.41473542322266693,\n",
       " 0.4147337298973175,\n",
       " 0.4147310210276352,\n",
       " 0.41472668776050725,\n",
       " 0.41471975653147103,\n",
       " 0.41470867109127746,\n",
       " 0.4146909450280753,\n",
       " 0.4146626090434779,\n",
       " 0.4146173348203442,\n",
       " 0.4145450541053172,\n",
       " 0.4144298022526647,\n",
       " 0.4142464019795199,\n",
       " 0.4139554945660129,\n",
       " 0.4134964294392142,\n",
       " 0.412777944795263,\n",
       " 0.41166816502619485,\n",
       " 0.40998980436080934,\n",
       " 0.4075362537956857,\n",
       " 0.40414146350412183,\n",
       " 0.3998544433011875,\n",
       " 0.3952538512252673,\n",
       " 0.39182523301116684,\n",
       " 0.39212574573532294,\n",
       " 0.3994832095513076,\n",
       " 0.41754931592892247,\n",
       " 0.4504376380388085,\n",
       " 0.5030894841835056,\n",
       " 0.5798571185530538,\n",
       " 0.6803370464463816,\n",
       " 0.7958560413489196,\n",
       " 0.9116824985514476,\n",
       " 1.014067195927552,\n",
       " 1.095638226406823,\n",
       " 1.15570763193561,\n",
       " 1.197533331857447,\n",
       " 1.225566170018822,\n",
       " 1.2438869789036358,\n",
       " 1.25566662719817,\n",
       " 1.2631618948183385,\n",
       " 1.2678995992266897,\n",
       " 1.2708817951395779,\n",
       " 1.2727540501458547]"
      ]
     },
     "execution_count": 132,
     "metadata": {},
     "output_type": "execute_result"
    }
   ],
   "source": [
    "import matplotlib.pyplot as plt\n",
    "\n",
    "ax=plt.gca()\n",
    "ax.plot(alphas,errors,[10**-5,10**5],[baseline_error,baseline_error])\n",
    "ax.set_xscale(\"log\")\n",
    "plt.show()\n",
    "errors"
   ]
  },
  {
   "cell_type": "code",
   "execution_count": 133,
   "metadata": {},
   "outputs": [
    {
     "data": {
      "image/png": "[encoded data removed]",
      "text/plain": [
       "<Figure size 432x288 with 1 Axes>"
      ]
     },
     "metadata": {
      "needs_background": "light"
     },
     "output_type": "display_data"
    }
   ],
   "source": [
    "\n",
    "ax=plt.gca()\n",
    "ax.plot(alphas,coefs)\n",
    "ax.set_xscale(\"log\")\n",
    "plt.title(\"Affichage du chemin de régularisation\")\n",
    "\n",
    "plt.show()\n"
   ]
  },
  {
   "cell_type": "code",
   "execution_count": 134,
   "metadata": {},
   "outputs": [
    {
     "name": "stdout",
     "output_type": "stream",
     "text": [
      "0.39182523301116684\n"
     ]
    }
   ],
   "source": [
    "\n",
    "errors[np.argmin(errors)]\n",
    "\n",
    "print(errors[np.argmin(errors)])"
   ]
  },
  {
   "cell_type": "code",
   "execution_count": 135,
   "metadata": {},
   "outputs": [
    {
     "name": "stdout",
     "output_type": "stream",
     "text": [
      "7.387071841107124\n"
     ]
    },
    {
     "data": {
      "text/plain": [
       "[7.387071841107124,\n",
       " 7.387074095615281,\n",
       " 7.3870764567474225,\n",
       " 7.387078929546609,\n",
       " 7.387081519294484,\n",
       " 7.387084231522539,\n",
       " 7.387087072023944,\n",
       " 7.387090046865938,\n",
       " 7.387093162402798,\n",
       " 7.38709642528942,\n",
       " 7.387099033699351,\n",
       " 7.387102612686408,\n",
       " 7.387106360944995,\n",
       " 7.387110286482039,\n",
       " 7.387114397683332,\n",
       " 7.387118703331441,\n",
       " 7.387123212624516,\n",
       " 7.387127935195948,\n",
       " 7.387132881134986,\n",
       " 7.387138061008322,\n",
       " 7.3871434858827065,\n",
       " 7.3871491673486185,\n",
       " 7.387155117545085,\n",
       " 7.387159940772184,\n",
       " 7.387166467817475,\n",
       " 7.387173303598189,\n",
       " 7.387180462721388,\n",
       " 7.38718796048559,\n",
       " 7.387195812913513,\n",
       " 7.387204036786412,\n",
       " 7.387210762391237,\n",
       " 7.387219784317462,\n",
       " 7.387229233027582,\n",
       " 7.3872391287175425,\n",
       " 7.387249492539656,\n",
       " 7.387260346647937,\n",
       " 7.387271714245631,\n",
       " 7.387283619634966,\n",
       " 7.387296088269302,\n",
       " 7.387309146807749,\n",
       " 7.387322823172368,\n",
       " 7.387337146608137,\n",
       " 7.387352147745743,\n",
       " 7.387367858667375,\n",
       " 7.38738431297565,\n",
       " 7.387401545865832,\n",
       " 7.387419596575621,\n",
       " 7.387438502886081,\n",
       " 7.3874583038803925,\n",
       " 7.387479041926829,\n",
       " 7.387500761402943,\n",
       " 7.387523508791138,\n",
       " 7.38754733277882,\n",
       " 7.387571128707133,\n",
       " 7.38759726647309,\n",
       " 7.3876246414501585,\n",
       " 7.387653312258197,\n",
       " 7.387683340300064,\n",
       " 7.387714789894277,\n",
       " 7.387747728414052,\n",
       " 7.387782226433025,\n",
       " 7.38781835787799,\n",
       " 7.387856200188987,\n",
       " 7.387895834487132,\n",
       " 7.387937345750499,\n",
       " 7.387980822998547,\n",
       " 7.388026359485451,\n",
       " 7.388074052902745,\n",
       " 7.3881240055918544,\n",
       " 7.388176324766875,\n",
       " 7.388231122748205,\n",
       " 7.388288517207509,\n",
       " 7.388348631424642,\n",
       " 7.388411594557042,\n",
       " 7.388477541922322,\n",
       " 7.3885466152946355,\n",
       " 7.388618963215581,\n",
       " 7.3886947413203075,\n",
       " 7.388774112679662,\n",
       " 7.388860029044512,\n",
       " 7.388947086551546,\n",
       " 7.389038273824447,\n",
       " 7.389133787401367,\n",
       " 7.389233833234977,\n",
       " 7.389338627149328,\n",
       " 7.3894483953194285,\n",
       " 7.389563353746854,\n",
       " 7.3896583595516505,\n",
       " 7.389748453303849,\n",
       " 7.389842781867127,\n",
       " 7.3899415882817205,\n",
       " 7.390045085957032,\n",
       " 7.390153498554547,\n",
       " 7.390267060488151,\n",
       " 7.390386017449595,\n",
       " 7.3905106269604515,\n",
       " 7.390641158952,\n",
       " 7.390777896374487,\n",
       " 7.39092113583737,\n",
       " 7.391085770274352,\n",
       " 7.391242977476767,\n",
       " 7.391407666157425,\n",
       " 7.391580194681531,\n",
       " 7.391760938803493,\n",
       " 7.391950292532099,\n",
       " 7.392148669040698,\n",
       " 7.3923565016249935,\n",
       " 7.392574244711122,\n",
       " 7.392802374916851,\n",
       " 7.393041392168993,\n",
       " 7.393291820880201,\n",
       " 7.393554211188661,\n",
       " 7.393865453374891,\n",
       " 7.394153554807275,\n",
       " 7.394455437365,\n",
       " 7.394771767941341,\n",
       " 7.395103246437118,\n",
       " 7.395450607463937,\n",
       " 7.395814622141808,\n",
       " 7.396196099996837,\n",
       " 7.396595890965289,\n",
       " 7.397014887510556,\n",
       " 7.397417364724672,\n",
       " 7.397877586451034,\n",
       " 7.3983599671634215,\n",
       " 7.398865593015973,\n",
       " 7.399395605230979,\n",
       " 7.399951203061681,\n",
       " 7.400533646929872,\n",
       " 7.401127962385417,\n",
       " 7.401681235955434,\n",
       " 7.402264733345936,\n",
       " 7.402878832815337,\n",
       " 7.403522274996411,\n",
       " 7.404196507771725,\n",
       " 7.404905281614785,\n",
       " 7.4056479715456405,\n",
       " 7.406426251079486,\n",
       " 7.407241835638407,\n",
       " 7.408096514584147,\n",
       " 7.408992187563149,\n",
       " 7.409931106896441,\n",
       " 7.41091552720174,\n",
       " 7.411969919517756,\n",
       " 7.413050634495923,\n",
       " 7.414183371244324,\n",
       " 7.415370678444288,\n",
       " 7.416615233879855,\n",
       " 7.417919851373324,\n",
       " 7.4192874881291315,\n",
       " 7.4207212525132515,\n",
       " 7.4222252338048404,\n",
       " 7.423802150401121,\n",
       " 7.425455553850156,\n",
       " 7.427189246578579,\n",
       " 7.429007228776493,\n",
       " 7.430913837679027,\n",
       " 7.432913871236477,\n",
       " 7.435011631856246,\n",
       " 7.437211863958546,\n",
       " 7.43950027252419,\n",
       " 7.4412223513139,\n",
       " 7.443028906980291,\n",
       " 7.444924058444034,\n",
       " 7.446912290395705,\n",
       " 7.448998339490999,\n",
       " 7.4511871988044405,\n",
       " 7.45348413309446,\n",
       " 7.455894695094286,\n",
       " 7.458424742906551,\n",
       " 7.461080458586099,\n",
       " 7.463868368002569,\n",
       " 7.466795355023144,\n",
       " 7.469868688303076,\n",
       " 7.473096073764586,\n",
       " 7.476485641337428,\n",
       " 7.480045986107274,\n",
       " 7.483786199225141,\n",
       " 7.487715900041443,\n",
       " 7.491845270599588,\n",
       " 7.496185092681945,\n",
       " 7.500746787618144,\n",
       " 7.505542459084106,\n",
       " 7.510584939140585,\n",
       " 7.515887837782018,\n",
       " 7.521465596290864,\n",
       " 7.527333544718874,\n",
       " 7.533507963845792,\n",
       " 7.540006151997488,\n",
       " 7.546846497140174,\n",
       " 7.554048554705061,\n",
       " 7.561633131639166,\n",
       " 7.5696223772232285,\n",
       " 7.578039881247024,\n",
       " 7.586925523055733,\n",
       " 7.596276239027248,\n",
       " 7.606135715443348,\n",
       " 7.616534456215347,\n",
       " 7.627505031730884,\n",
       " 7.639082236985713,\n",
       " 7.651303263042055,\n",
       " 7.664207883009901,\n",
       " 7.677838653859128,\n",
       " 7.69224113549225,\n",
       " 7.707464128641155,\n",
       " 7.723559933297519,\n",
       " 7.740584629546634,\n",
       " 7.758598382850056,\n",
       " 7.777665776014358,\n",
       " 7.7978561702940405,\n",
       " 7.819244098307006,\n",
       " 7.841921299317745,\n",
       " 7.8659492560378395,\n",
       " 7.891434413274352,\n",
       " 7.91847607003643,\n",
       " 7.946351483812844,\n",
       " 7.967570351320965,\n",
       " 7.99003949310369,\n",
       " 8.013819766814217,\n",
       " 8.039017040814771,\n",
       " 8.067640107215995,\n",
       " 8.101059805400178,\n",
       " 8.136380097326564,\n",
       " 8.167611831083628,\n",
       " 8.20057839489423,\n",
       " 8.2355105200977,\n",
       " 8.272540521024697,\n",
       " 8.311810780121816,\n",
       " 8.353474593036264,\n",
       " 8.397697089386154,\n",
       " 8.444656236254046,\n",
       " 8.49454393210896,\n",
       " 8.547567199593736,\n",
       " 8.60394948641635,\n",
       " 8.66393208446261,\n",
       " 8.72777567821047,\n",
       " 8.795762034581955,\n",
       " 8.868195847525254,\n",
       " 8.94540675188779,\n",
       " 9.016476090080474,\n",
       " 9.016476090080474,\n",
       " 9.016476090080474,\n",
       " 9.016476090080474,\n",
       " 9.016476090080474,\n",
       " 9.016476090080474,\n",
       " 9.016476090080474,\n",
       " 9.016476090080474,\n",
       " 9.016476090080474,\n",
       " 9.016476090080474,\n",
       " 9.016476090080474,\n",
       " 9.016476090080474,\n",
       " 9.016476090080474,\n",
       " 9.016476090080474,\n",
       " 9.016476090080474,\n",
       " 9.016476090080474,\n",
       " 9.016476090080474,\n",
       " 9.016476090080474,\n",
       " 9.016476090080474,\n",
       " 9.016476090080474,\n",
       " 9.016476090080474,\n",
       " 9.016476090080474,\n",
       " 9.016476090080474,\n",
       " 9.016476090080474,\n",
       " 9.016476090080474,\n",
       " 9.016476090080474,\n",
       " 9.016476090080474,\n",
       " 9.016476090080474,\n",
       " 9.016476090080474,\n",
       " 9.016476090080474,\n",
       " 9.016476090080474,\n",
       " 9.016476090080474,\n",
       " 9.016476090080474,\n",
       " 9.016476090080474,\n",
       " 9.016476090080474,\n",
       " 9.016476090080474,\n",
       " 9.016476090080474,\n",
       " 9.016476090080474,\n",
       " 9.016476090080474,\n",
       " 9.016476090080474,\n",
       " 9.016476090080474,\n",
       " 9.016476090080474,\n",
       " 9.016476090080474,\n",
       " 9.016476090080474,\n",
       " 9.016476090080474,\n",
       " 9.016476090080474,\n",
       " 9.016476090080474,\n",
       " 9.016476090080474,\n",
       " 9.016476090080474,\n",
       " 9.016476090080474,\n",
       " 9.016476090080474,\n",
       " 9.016476090080474,\n",
       " 9.016476090080474,\n",
       " 9.016476090080474,\n",
       " 9.016476090080474,\n",
       " 9.016476090080474,\n",
       " 9.016476090080474,\n",
       " 9.016476090080474,\n",
       " 9.016476090080474,\n",
       " 9.016476090080474,\n",
       " 9.016476090080474]"
      ]
     },
     "execution_count": 135,
     "metadata": {},
     "output_type": "execute_result"
    }
   ],
   "source": [
    "n_alphas = 300\n",
    "alphas = np.logspace(-5, 1, 300)\n",
    "lasso = linear_model.Lasso(fit_intercept=False)\n",
    "\n",
    "coefs = []\n",
    "errors = []\n",
    "for a in alphas:\n",
    "    lasso.set_params(alpha=a)\n",
    "    lasso.fit(X_train, y_train)\n",
    "    coefs.append(lasso.coef_)\n",
    "    errors.append(np.mean((lasso.predict(X_test) - y_test) ** 2))\n",
    "\n",
    "print(errors[np.argmin(errors_lasso)])\n",
    "\n",
    "errors"
   ]
  },
  {
   "cell_type": "code",
   "execution_count": 136,
   "metadata": {},
   "outputs": [
    {
     "data": {
      "image/png": "[encoded data removed]",
      "text/plain": [
       "<Figure size 432x288 with 1 Axes>"
      ]
     },
     "metadata": {
      "needs_background": "light"
     },
     "output_type": "display_data"
    }
   ],
   "source": [
    "ax=plt.gca()\n",
    "ax.plot(alphas,errors,[10**-5,10**5],[baseline_error,baseline_error])\n",
    "ax.set_xscale(\"log\")\n",
    "plt.show()"
   ]
  },
  {
   "cell_type": "code",
   "execution_count": 137,
   "metadata": {},
   "outputs": [
    {
     "name": "stdout",
     "output_type": "stream",
     "text": [
      "7.387071841107124\n"
     ]
    }
   ],
   "source": [
    "print(errors[np.argmin(errors)])"
   ]
  },
  {
   "cell_type": "code",
   "execution_count": 138,
   "metadata": {},
   "outputs": [
    {
     "data": {
      "image/png": "[encoded data removed]",
      "text/plain": [
       "<Figure size 432x288 with 1 Axes>"
      ]
     },
     "metadata": {
      "needs_background": "light"
     },
     "output_type": "display_data"
    }
   ],
   "source": [
    "\n",
    "ax=plt.gca()\n",
    "ax.plot(alphas,coefs)\n",
    "ax.set_xscale(\"log\")\n",
    "plt.title(\"Affichage du chemin de régularisation\")\n",
    "\n",
    "plt.show()\n"
   ]
  },
  {
   "cell_type": "code",
   "execution_count": null,
   "metadata": {},
   "outputs": [],
   "source": []
  }
 ],
 "metadata": {
  "kernelspec": {
   "display_name": "Python 3",
   "language": "python",
   "name": "python3"
  },
  "language_info": {
   "codemirror_mode": {
    "name": "ipython",
    "version": 3
   },
   "file_extension": ".py",
   "mimetype": "text/x-python",
   "name": "python",
   "nbconvert_exporter": "python",
   "pygments_lexer": "ipython3",
   "version": "3.8.5"
  }
 },
 "nbformat": 4,
 "nbformat_minor": 4
}
